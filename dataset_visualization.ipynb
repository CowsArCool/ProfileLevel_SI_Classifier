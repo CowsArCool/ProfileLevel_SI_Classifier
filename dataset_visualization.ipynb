{
 "cells": [
  {
   "cell_type": "code",
   "execution_count": null,
   "metadata": {},
   "outputs": [],
   "source": [
    "import os\n",
    "import numpy as np\n",
    "import pandas as pd\n",
    "import matplotlib.pyplot as plt\n",
    "import seaborn as sns\n"
   ]
  },
  {
   "cell_type": "code",
   "execution_count": null,
   "metadata": {},
   "outputs": [],
   "source": [
    "RUNNING_DIR = r'C:\\Code\\NLP\\ProfileLevel_SI_Classifier'\n",
    "datasets_dir = os.path.join(RUNNING_DIR, 'Datasets')\n",
    "sns.set_theme()\n"
   ]
  },
  {
   "cell_type": "markdown",
   "metadata": {},
   "source": [
    "## Reddit Data"
   ]
  },
  {
   "cell_type": "code",
   "execution_count": null,
   "metadata": {},
   "outputs": [],
   "source": [
    "reddit_df = pd.read_csv (os.path.join (datasets_dir, 'Implicitly_Labeled_Suicide_Reddit.csv'))[['text', 'class']]\n",
    "reddit_df = reddit_df.sample (1000).reset_index(drop=True)\n",
    "reddit_df.rename (columns= {'class':'label'}, inplace=True)\n",
    "reddit_df"
   ]
  },
  {
   "cell_type": "code",
   "execution_count": null,
   "metadata": {},
   "outputs": [],
   "source": [
    "reddit_df['label'].value_counts().plot.pie()"
   ]
  },
  {
   "cell_type": "code",
   "execution_count": null,
   "metadata": {},
   "outputs": [],
   "source": [
    "reddit_df['label'].replace ({'non-suicide':0, 'suicide':1}, inplace=True)\n",
    "reddit_df['text'].str.split(expand=True).stack().value_counts()[:20].plot.bar(title='Most Frequent Words')\n",
    "reddit_df.loc[reddit_df['label']==1]['text'].str.split(expand=True).stack().value_counts()[:20].plot.bar(title='Most Frequent Words')\n",
    "reddit_df.loc[reddit_df['label']==0]['text'].str.split(expand=True).stack().value_counts()[:20].plot.bar(title='Most Frequent Words')"
   ]
  },
  {
   "cell_type": "markdown",
   "metadata": {},
   "source": [
    "## Professionally Labeled Reddit"
   ]
  },
  {
   "cell_type": "code",
   "execution_count": null,
   "metadata": {},
   "outputs": [],
   "source": [
    "pro_df = pd.read_csv (os.path.join (datasets_dir, 'Professionally_labeled_reddit.csv'))[['Post', 'Label']]\n",
    "pro_df.rename (columns={'Post':'text', 'Label':'label'}, inplace=True)\n",
    "pro_df['text'] = pro_df['text'].apply (lambda x:x[2:-2])\n",
    "pro_df"
   ]
  },
  {
   "cell_type": "code",
   "execution_count": null,
   "metadata": {},
   "outputs": [],
   "source": [
    "pro_df['label'].value_counts().plot.pie()"
   ]
  },
  {
   "cell_type": "code",
   "execution_count": null,
   "metadata": {},
   "outputs": [],
   "source": [
    "pro_df['split_text'] = pro_df['text'].apply (lambda x:x.split(\"\\', \\'\"))\n",
    "sns.histplot (pro_df['split_text'].apply (lambda x:len(x)).value_counts())"
   ]
  },
  {
   "cell_type": "code",
   "execution_count": null,
   "metadata": {},
   "outputs": [],
   "source": [
    "pro_df['splits_lens'] = pro_df['split_text'].apply (lambda x:len(x))\n",
    "max(pro_df['splits_lens'])"
   ]
  },
  {
   "cell_type": "code",
   "execution_count": null,
   "metadata": {},
   "outputs": [],
   "source": [
    "pro_df.loc[pro_df['label']=='Attempt', 'split_text'].iloc[0]"
   ]
  },
  {
   "cell_type": "code",
   "execution_count": null,
   "metadata": {},
   "outputs": [],
   "source": [
    "# Indicators are people who are helping out\n",
    "# Ideation is people who are sorta helping out but a bit suicidal"
   ]
  }
 ],
 "metadata": {
  "kernelspec": {
   "display_name": "Profile_SI-env",
   "language": "python",
   "name": "profile_si-env"
  },
  "language_info": {
   "codemirror_mode": {
    "name": "ipython",
    "version": 3
   },
   "file_extension": ".py",
   "mimetype": "text/x-python",
   "name": "python",
   "nbconvert_exporter": "python",
   "pygments_lexer": "ipython3",
   "version": "3.10.2"
  },
  "orig_nbformat": 4
 },
 "nbformat": 4,
 "nbformat_minor": 2
}
